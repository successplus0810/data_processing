{
 "cells": [
  {
   "cell_type": "code",
   "execution_count": 1,
   "metadata": {},
   "outputs": [],
   "source": [
    "import json \n",
    "import pandas as pd\n",
    "import snowflake.connector as sf\n",
    "import os\n",
    "import xlwings as xw\n",
    "import glob\n",
    "pd.options.mode.chained_assignment = None\n",
    "def fill_data_if_dup_column(column_list_to_fill,df_raw):\n",
    "    for column_need_to_fill in column_list_to_fill:\n",
    "        column_contain_list = []\n",
    "        for column in df_raw.columns:\n",
    "            if column_need_to_fill in column:\n",
    "                column_contain_list.append(column)\n",
    "        if len(column_contain_list) > 1 :\n",
    "            # coalesce if many column dup name\n",
    "            df_raw[column_need_to_fill] = df_raw[column_contain_list].bfill(axis=1).iloc[:, 0]\n",
    "    return df_raw"
   ]
  },
  {
   "cell_type": "code",
   "execution_count": 4,
   "metadata": {},
   "outputs": [],
   "source": [
    "path_csv_raw = \"D:\\python\\cl_nonedi\\putput_csv_raw\"\n",
    "os.chdir(path_csv_raw)\n",
    "csv_list = glob.glob('*.csv', recursive=True)\n",
    "columns_dict = {}\n",
    "for file in csv_list:\n",
    "    columns_dict[file] =  pd.read_csv(file).columns.to_list()"
   ]
  },
  {
   "cell_type": "code",
   "execution_count": null,
   "metadata": {},
   "outputs": [],
   "source": [
    "df_manual_fixing = pd.read_excel(r'D:\\python\\cl_nonedi\\manual_fixing.xlsx',sheet_name='Error_header_1').reset_index(drop=True).map(lambda x: str(x).replace('nan',''))\n",
    "manual_fixing_dict = df_manual_fixing.to_dict(orient = 'index')\n",
    "manual_fixing_dict"
   ]
  },
  {
   "cell_type": "code",
   "execution_count": null,
   "metadata": {},
   "outputs": [],
   "source": [
    "# columns_dict_test = {'0650_21225598TIF_liq.csv' : columns_dict['0650_21225598TIF_liq.csv']}\n",
    "columns_dict_fixed = {}\n",
    "for file,column_list in columns_dict.items():\n",
    "    column_list_fixed = []\n",
    "    for column_name in column_list:\n",
    "        for value in list(manual_fixing_dict.values()):\n",
    "            if value['Error'] in column_name:\n",
    "                column_name = column_name.replace(value['Error'],value['Error_fix'])\n",
    "        column_list_fixed.append(column_name.upper().strip().replace(' ',''))\n",
    "    columns_dict_fixed[file] = column_list_fixed\n",
    "columns_dict_fixed"
   ]
  },
  {
   "cell_type": "code",
   "execution_count": null,
   "metadata": {},
   "outputs": [],
   "source": [
    "df_manual_fixing_2 = pd.read_excel(r'D:\\python\\cl_nonedi\\manual_fixing.xlsx',sheet_name='Error_header_2').reset_index(drop=True).map(lambda x: str(x).replace('nan',''))\n",
    "manual_fixing_dict_2 = df_manual_fixing_2.to_dict(orient = 'index')\n",
    "manual_fixing_dict_2"
   ]
  },
  {
   "cell_type": "code",
   "execution_count": null,
   "metadata": {},
   "outputs": [],
   "source": [
    "columns_dict_fixed_2 = {}\n",
    "for file,column_list in columns_dict_fixed.items():\n",
    "    column_list_fixed = []\n",
    "    for column_name in column_list:\n",
    "        for value in list(manual_fixing_dict_2.values()):\n",
    "            if value['Error'] == column_name:\n",
    "                column_name = column_name.replace(value['Error'],value['Error_fix'])\n",
    "                break\n",
    "        #check dup column\n",
    "        if column_name in column_list_fixed:\n",
    "            i = 1\n",
    "            for column_fixed in column_list_fixed:\n",
    "                if column_name == column_fixed:\n",
    "                    i+= 1\n",
    "            column_name += str(i)\n",
    "        column_list_fixed.append(column_name)\n",
    "    columns_dict_fixed_2[file] = column_list_fixed\n",
    "columns_dict_fixed_2"
   ]
  },
  {
   "cell_type": "code",
   "execution_count": null,
   "metadata": {},
   "outputs": [],
   "source": [
    "df_all = pd.DataFrame()\n",
    "for file in csv_list:\n",
    "    df = pd.read_csv(file)\n",
    "    df.columns = columns_dict_fixed_2[file]\n",
    "    df = fill_data_if_dup_column(column_list_to_fill = ['PRODUCT_ID','PRODUCT_NAME','INV_QTY','INV_PRICE','LINE_VALUE'],df_raw = df)\n",
    "    print(f'----------------------------------{file}---------------')\n",
    "    print(df)\n",
    "    df_all = pd.concat([df_all.reset_index(drop=True), df.reset_index(drop=True)])"
   ]
  },
  {
   "cell_type": "code",
   "execution_count": null,
   "metadata": {},
   "outputs": [],
   "source": [
    "df_test = df_all\n",
    "df_test['DATA'] = df_test.drop(columns=['INDEX_CSV', 'FILENAME', 'PRODUCT_ID','PRODUCT_NAME','INV_QTY','INV_PRICE','LINE_VALUE']).applymap(str).apply(lambda x: json.dumps(x.to_dict()), axis=1)\n",
    "# df_test = df_test[['INDEX_CSV', 'FILENAME', 'PRODUCT_ID','PRODUCT_NAME','INV_QTY','INV_PRICE','LINE_VALUE','DATA']].apply(lambda x : x.replace('nan',''))\n",
    "# df_test = df_test.astype({'PRODUCT_ID': 'str','INV_QTY':'int','INV_PRICE':'float','LINE_VALUE':'float'})\n",
    "# df_test\n"
   ]
  },
  {
   "cell_type": "code",
   "execution_count": null,
   "metadata": {},
   "outputs": [],
   "source": [
    "df_test = df_test[['INDEX_CSV', 'FILENAME', 'PRODUCT_ID','PRODUCT_NAME','INV_QTY','INV_PRICE','LINE_VALUE']]\n",
    "df_test"
   ]
  },
  {
   "cell_type": "code",
   "execution_count": null,
   "metadata": {},
   "outputs": [],
   "source": [
    "df_manual_fixing_3 = pd.read_excel(r'D:\\python\\cl_nonedi\\manual_fixing.xlsx',sheet_name='Error_detail').reset_index(drop=True).map(lambda x: str(x).replace('nan',''))\n",
    "manual_fixing_dict_3 = df_manual_fixing_3.to_dict(orient = 'index')\n",
    "manual_fixing_dict_3"
   ]
  },
  {
   "cell_type": "code",
   "execution_count": 69,
   "metadata": {},
   "outputs": [],
   "source": [
    "list_dict_test = df_test.to_dict(orient='records')\n",
    "#clean itemid & itemname\n",
    "for i in range(len(list_dict_test)):\n",
    "    try:\n",
    "        list_dict_test[i]['PRODUCT_ID'] = int(list_dict_test[i]['PRODUCT_ID'])\n",
    "    except:\n",
    "        list_digital = []\n",
    "        list_notdigital = []\n",
    "        for char in str(list_dict_test[i]['PRODUCT_ID']):\n",
    "            if char.isdigit():\n",
    "                list_digital.append(char)\n",
    "            else:\n",
    "                list_notdigital.append(char)                  \n",
    "        list_dict_test[i]['PRODUCT_ID'] = ''.join(list_digital)\n",
    "        list_dict_test[i]['PRODUCT_NAME'] = ''.join(list_notdigital) + ' ' + str(list_dict_test[i]['PRODUCT_NAME'])\n",
    "        for value in manual_fixing_dict_3.values():\n",
    "            if value['Error'] in list_dict_test[i]['PRODUCT_NAME']:\n",
    "                list_dict_test[i]['PRODUCT_NAME'] = list_dict_test[i]['PRODUCT_NAME'].replace(value['Error'],value['Error_fix'])\n",
    "    # clean QTY\n",
    "    try:\n",
    "        list_dict_test[i]['INV_QTY'] = abs(int(list_dict_test[i]['INV_QTY']))\n",
    "    except:\n",
    "        list_digital = []\n",
    "        list_notdigital = []\n",
    "        for char in str(list_dict_test[i]['INV_QTY']):\n",
    "            if char.isdigit():\n",
    "                list_digital.append(char)\n",
    "            else:\n",
    "                list_notdigital.append(char)     \n",
    "        try:             \n",
    "            list_dict_test[i]['INV_QTY'] = abs(int(''.join(list_digital)))\n",
    "        except ValueError :\n",
    "            list_dict_test[i]['INV_QTY'] = ''.join(list_digital)\n",
    "    # clean LINE_VALUE\n",
    "    try:\n",
    "        list_dict_test[i]['LINE_VALUE'] = abs(float(list_dict_test[i]['LINE_VALUE']))\n",
    "    except:\n",
    "        # exxist character not digital\n",
    "        list_dict_test[i]['LINE_VALUE'] = list_dict_test[i]['LINE_VALUE'].replace(',','.')\n",
    "        list_digital = []\n",
    "        list_notdigital = []\n",
    "        for char in str(list_dict_test[i]['LINE_VALUE']) or char == '.':\n",
    "            if char.isdigit() or char == '.':\n",
    "                list_digital.append(char)\n",
    "            else:\n",
    "                list_notdigital.append(char)   \n",
    "        #after remove notdigital some number may be .23.56. -> remove 2  character . \n",
    "        try:             \n",
    "            list_dict_test[i]['LINE_VALUE'] = abs(float(''.join(list_digital)))\n",
    "        except ValueError :\n",
    "            if list_digital == []:\n",
    "                list_dict_test[i]['LINE_VALUE'] = ''\n",
    "            else:\n",
    "                if list_digital[0] == '.':\n",
    "                    list_digital.pop(0)\n",
    "                if list_digital[-1] == '.':\n",
    "                    list_digital.pop(-1)\n",
    "                list_dict_test[i]['LINE_VALUE'] = abs(float(''.join(list_digital)))\n",
    "    # clean LUC_VALUE\n",
    "    try:\n",
    "        list_dict_test[i]['INV_PRICE'] = abs(float(list_dict_test[i]['INV_PRICE']))\n",
    "    except:\n",
    "        # exxist character not digital\n",
    "        list_dict_test[i]['INV_PRICE'] = list_dict_test[i]['INV_PRICE'].replace(',','.')\n",
    "        list_digital = []\n",
    "        list_notdigital = []\n",
    "        for char in str(list_dict_test[i]['INV_PRICE']) or char == '.':\n",
    "            if char.isdigit() or char == '.':\n",
    "                list_digital.append(char)\n",
    "            else:\n",
    "                list_notdigital.append(char)   \n",
    "        #after remove notdigital some number may be .23.56. -> remove 2  character . \n",
    "        try:             \n",
    "            list_dict_test[i]['INV_PRICE'] = abs(float(''.join(list_digital)))\n",
    "        except ValueError :\n",
    "            if list_digital == []:\n",
    "                list_dict_test[i]['INV_PRICE'] = ''\n",
    "            else:\n",
    "                if list_digital[0] == '.':\n",
    "                    list_digital.pop(0)\n",
    "                if list_digital[-1] == '.':\n",
    "                    list_digital.pop(-1)\n",
    "                list_dict_test[i]['INV_PRICE'] = abs(float(''.join(list_digital)))\n",
    "    try :\n",
    "        list_dict_test[i]['INV_PRICE_2'] = round(float(list_dict_test[i]['LINE_VALUE']) / int(list_dict_test[i]['INV_QTY']),2)\n",
    "    except:\n",
    "        list_dict_test[i]['INV_PRICE_2'] = ''\n",
    "    try :\n",
    "        list_dict_test[i]['INV_PRICE'] = round(float(list_dict_test[i]['INV_PRICE']),2)\n",
    "    except:\n",
    "        list_dict_test[i]['INV_PRICE'] = ''\n",
    "    list_dict_test[i]['VEND_NUM'] = list_dict_test[i]['FILENAME'].split('_')[0]\n",
    "    list_dict_test[i]['REF_NUM'] = list_dict_test[i]['FILENAME'].split('_')[1]\n",
    "    list_dict_test[i]['LINE_NUM'] = list_dict_test[i]['INDEX_CSV']\n",
    "\n",
    "df = pd.DataFrame(list_dict_test)\n",
    "df = df[['LINE_NUM','FILENAME','VEND_NUM','REF_NUM','PRODUCT_ID','PRODUCT_NAME','INV_QTY','INV_PRICE','LINE_VALUE','INV_PRICE_2']]\n",
    "df.to_csv(r'D:\\python\\cl_nonedi\\test4.csv',index=False)"
   ]
  }
 ],
 "metadata": {
  "kernelspec": {
   "display_name": "venv",
   "language": "python",
   "name": "python3"
  },
  "language_info": {
   "codemirror_mode": {
    "name": "ipython",
    "version": 3
   },
   "file_extension": ".py",
   "mimetype": "text/x-python",
   "name": "python",
   "nbconvert_exporter": "python",
   "pygments_lexer": "ipython3",
   "version": "3.9.7"
  }
 },
 "nbformat": 4,
 "nbformat_minor": 2
}
